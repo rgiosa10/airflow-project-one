{
 "cells": [
  {
   "cell_type": "code",
   "execution_count": 10,
   "metadata": {},
   "outputs": [],
   "source": [
    "from datetime import timedelta, datetime\n",
    "\n",
    "from airflow import DAG\n",
    "\n",
    "from airflow.operators.dummy_operator import DummyOperator\n",
    "from airflow.operators.bash import BashOperator\n",
    "from airflow.operators.python import PythonOperator\n",
    "from airflow.utils.dates import days_ago # handy scheduling tool\n",
    "import pandas as pd\n",
    "import os\n",
    "import sys\n",
    "import json\n",
    "import random\n",
    "\n",
    "\n",
    "df = pd.read_csv(\"/Users/Ruben/Desktop/airflow-project-one/testing/2019.csv\",header=0)\n"
   ]
  },
  {
   "cell_type": "code",
   "execution_count": 44,
   "metadata": {},
   "outputs": [
    {
     "name": "stdout",
     "output_type": "stream",
     "text": [
      "{'Uzbekistan': 41}\n"
     ]
    }
   ],
   "source": [
    "country = list(df['Country or region'])\n",
    "rank = list(df['Overall rank'])\n",
    "\n",
    "country_rank_dict = dict(zip(country,rank))\n",
    "\n",
    "\n",
    "counter = 1\n",
    "for item in range(3):\n",
    "    choice_key = random.choice(list(country_rank_dict))\n",
    "    choice_value = country_rank_dict[choice_key]\n",
    "    choice_dict = {choice_key:choice_value}\n",
    "\n",
    "    with open(f\"test.json\", 'w') as outfile:\n",
    "            json.dump(choice_dict, outfile)\n",
    "    counter += 1\n",
    "    del country_rank_dict[choice_key]\n",
    "\n",
    "\n",
    "choice = pd.read_json(\"./test.json\", orient='index')\n",
    "choice = choice.to_dict()\n",
    "for key, value in choice[0]:\n",
    "\n",
    "\n",
    "#print(rank_final)\n",
    "\n"
   ]
  }
 ],
 "metadata": {
  "kernelspec": {
   "display_name": "Python 3.7.9 ('venv': venv)",
   "language": "python",
   "name": "python3"
  },
  "language_info": {
   "codemirror_mode": {
    "name": "ipython",
    "version": 3
   },
   "file_extension": ".py",
   "mimetype": "text/x-python",
   "name": "python",
   "nbconvert_exporter": "python",
   "pygments_lexer": "ipython3",
   "version": "3.7.9"
  },
  "orig_nbformat": 4,
  "vscode": {
   "interpreter": {
    "hash": "4620fcab61e7d25d7166b9eb9ab55528d5ad6088a1f023e77879223d2d52ecf7"
   }
  }
 },
 "nbformat": 4,
 "nbformat_minor": 2
}
